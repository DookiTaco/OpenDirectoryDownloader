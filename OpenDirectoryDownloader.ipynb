{
  "nbformat": 4,
  "nbformat_minor": 0,
  "metadata": {
    "colab": {
      "name": "OpenDirectoryDownloader.ipynb",
      "provenance": [],
      "collapsed_sections": []
    },
    "kernelspec": {
      "name": "python3",
      "display_name": "Python 3"
    },
    "language_info": {
      "name": "python"
    }
  },
  "cells": [
    {
      "cell_type": "code",
      "source": [
        "#@markdown <h2>Setup and install dependencies</h2>\n",
        "#@markdown Run this only once!<br>\n",
        "#@markdown Automatically takes the latest version\n",
        "%cd /content/\n",
        "!wget https://packages.microsoft.com/config/ubuntu/20.04/packages-microsoft-prod.deb -O packages-microsoft-prod.deb\n",
        "!sudo dpkg -i packages-microsoft-prod.deb\n",
        "!sudo apt-get update;\n",
        "!sudo apt-get install -y apt-transport-https\n",
        "!sudo apt-get install -y jq\n",
        "LatestVersionUrl=!curl https://api.github.com/repos/KoalaBear84/OpenDirectoryDownloader/releases/latest -s | jq -r '.assets[] | select(.name | endswith(\"linux-x64-self-contained.zip\")) | .browser_download_url | tostring'\n",
        "LatestVersionUrl=LatestVersionUrl[0]\n",
        "!wget $LatestVersionUrl -O OpenDirectoryDownloader.zip\n",
        "!unzip /content/OpenDirectoryDownloader.zip -o -d /content/Indexer/"
      ]
    },
    {
      "cell_type": "code",
      "source": [
        "#@markdown <h2>Index Open Directory</h2>\n",
        "import os\n",
        "Url = \"\" #@param {type:\"string\"}\n",
        "Threads = 5 #@param {type:\"slider\", min:1, max:50, step:1}\n",
        "\n",
        "os.environ[\"urlC\"] = Url\n",
        "os.environ[\"threadsC\"] = str(Threads)\n",
        "!/content/Indexer/OpenDirectoryDownloader --url $Url --threads $Threads --quit\n",
        "\n",
        "#@markdown After scanning the urls file can be found in Scans folder (see Folder icon on the left sidebar)"
      ]
    }
  ]
}