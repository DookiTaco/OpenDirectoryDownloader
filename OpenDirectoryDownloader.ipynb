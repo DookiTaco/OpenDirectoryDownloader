{
  "nbformat": 4,
  "nbformat_minor": 0,
  "metadata": {
    "colab": {
      "name": "OpenDirectoryDownloader.ipynb",
      "provenance": [],
      "collapsed_sections": []
    },
    "kernelspec": {
      "name": "python3",
      "display_name": "Python 3"
    },
    "language_info": {
      "name": "python"
    }
  },
  "cells": [
    {
      "cell_type": "code",
      "execution_count": null,
      "metadata": {
        "id": "ca6j0GrJiwpa"
      },
      "outputs": [],
      "source": [
        "#@markdown <h2>Setup and install dependencies</h2>\n",
        "#@markdown Run this only once!<br>\n",
        "#@markdown Automatically takes the latest version\n",
        "%cd /content/\n",
        "!wget https://packages.microsoft.com/config/ubuntu/20.04/packages-microsoft-prod.deb -O packages-microsoft-prod.deb\n",
        "!sudo dpkg -i packages-microsoft-prod.deb\n",
        "!sudo apt-get update;\n",
        "!sudo apt-get install -y apt-transport-https\n",
        "!sudo apt-get install -y jq\n",
        "LatestVersionUrl=!curl https://api.github.com/repos/KoalaBear84/OpenDirectoryDownloader/releases/latest -s | jq -r '.assets[] | select(.name | endswith(\"linux-x64-self-contained.zip\")) | .browser_download_url | tostring'\n",
        "LatestVersionUrl=LatestVersionUrl[0]\n",
        "!wget $LatestVersionUrl -O OpenDirectoryDownloader.zip\n",
        "!unzip /content/OpenDirectoryDownloader.zip -o -d /content/Indexer/"
      ]
    },
    {
      "cell_type": "code",
      "source": [
        "#@markdown <h2>Index Open Directory</h2>\n",
        "#@markdown After scanning the urls file can be found in Scans folder (see Folder icon on the left sidebar)\n",
        "\n",
        "Url = \"\" #@param {type:\"string\"}\n",
        "Threads = 5 #@param {type:\"slider\", min:1, max:50, step:1}\n",
        "\n",
        "!/content/Indexer/OpenDirectoryDownloader --url $Url --threads $Threads --quit"
      ],
      "metadata": {
        "id": "uUNjNySGnB90"
      },
      "execution_count": null,
      "outputs": []
    }
  ]
}